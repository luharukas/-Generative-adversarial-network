{
 "cells": [
  {
   "cell_type": "code",
   "execution_count": 15,
   "metadata": {},
   "outputs": [],
   "source": [
    "import shelve\n",
    "  \n",
    "# In this step, we create a shelf file.\n",
    "var = shelve.open(\"data\\data\")\n",
    "  \n",
    "# Now, this 'var' variable points to all the \n",
    "# data objects in the file 'shelf_file'.\n",
    "loss_d=var['loss_d']\n",
    "loss_g=var['loss_g']\n",
    "images=var['images']\n",
    "var.close()"
   ]
  },
  {
   "cell_type": "code",
   "execution_count": 17,
   "metadata": {},
   "outputs": [
    {
     "data": {
      "text/plain": [
       "90"
      ]
     },
     "execution_count": 17,
     "metadata": {},
     "output_type": "execute_result"
    }
   ],
   "source": [
    "len(images)"
   ]
  },
  {
   "cell_type": "code",
   "execution_count": 18,
   "metadata": {},
   "outputs": [],
   "source": [
    "from torch.utils.tensorboard import SummaryWriter\n",
    "import torchvision\n",
    "writer=SummaryWriter(log_dir='./runs')\n",
    "for i in range(90):\n",
    "    samples_image=images[i].detach()\n",
    "    image_grid=torchvision.utils.make_grid(samples_image)\n",
    "\n",
    "    writer.add_image(tag=f\"MNIST DATA_OUTPUT{i}\",img_tensor=image_grid,global_step=0)\n"
   ]
  },
  {
   "cell_type": "code",
   "execution_count": 19,
   "metadata": {},
   "outputs": [],
   "source": [
    "for i in range(60):\n",
    "    writer.add_scalars(\"Loss_D\",{f'EPOCH {j}':loss_d[i+j*60] for j in range(15)},i)\n",
    "    writer.add_scalars(\"Loss_G\",{f'EPOCH {j}':loss_g[i+j*60] for j in range(15)},i)\n",
    "writer.close()"
   ]
  },
  {
   "cell_type": "code",
   "execution_count": null,
   "metadata": {},
   "outputs": [],
   "source": []
  },
  {
   "cell_type": "code",
   "execution_count": null,
   "metadata": {},
   "outputs": [],
   "source": []
  },
  {
   "cell_type": "code",
   "execution_count": null,
   "metadata": {},
   "outputs": [],
   "source": []
  },
  {
   "cell_type": "code",
   "execution_count": null,
   "metadata": {},
   "outputs": [],
   "source": []
  }
 ],
 "metadata": {
  "kernelspec": {
   "display_name": "Python 3",
   "language": "python",
   "name": "python3"
  },
  "language_info": {
   "codemirror_mode": {
    "name": "ipython",
    "version": 3
   },
   "file_extension": ".py",
   "mimetype": "text/x-python",
   "name": "python",
   "nbconvert_exporter": "python",
   "pygments_lexer": "ipython3",
   "version": "3.9.13 (main, Aug 25 2022, 23:51:50) [MSC v.1916 64 bit (AMD64)]"
  },
  "vscode": {
   "interpreter": {
    "hash": "8b7078e322131f3e68093e492b74ce928b7e099f80e20b269f58d9de14af8a1b"
   }
  }
 },
 "nbformat": 4,
 "nbformat_minor": 2
}
